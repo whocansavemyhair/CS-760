{
 "cells": [
  {
   "cell_type": "markdown",
   "id": "b816a8bb",
   "metadata": {},
   "source": [
    "### 2-1"
   ]
  },
  {
   "cell_type": "code",
   "execution_count": 1,
   "id": "be503e4f",
   "metadata": {},
   "outputs": [],
   "source": [
    "import numpy as np\n",
    "import os\n",
    "\n",
    "\n",
    "\"\"\"\n",
    "    - classes: \n",
    "        class space, in this problem is e, j, and s\n",
    "    - doc_numbers:\n",
    "        the numbers of docs you want to use to train the model\n",
    "    - alpha:\n",
    "        the hyperparameter for additive smoothing\n",
    "    - char_count:\n",
    "        the total number of characters\n",
    "    - char:\n",
    "        the list of possible characters\n",
    "\"\"\"\n",
    "\n",
    "data_dir = \"languageID\"\n",
    "classes = [\"e\", \"j\", \"s\"]\n",
    "doc_numbers = [10, 10, 10]\n",
    "alpha = 0.5\n",
    "char_count = 27\n",
    "char_list = list(\"abcdefghijklmnopqrstuvwxyz \")\n",
    "\n",
    "docs = []\n",
    "labels = []\n",
    "for i, c in enumerate(classes):\n",
    "    for j in range(doc_numbers[i]):\n",
    "        with open(os.path.join(data_dir, f\"{c}{j}\")+\".txt\") as f:\n",
    "            docs.append(f.read())\n",
    "            labels.append(i)"
   ]
  },
  {
   "cell_type": "code",
   "execution_count": 2,
   "id": "c81b9e64",
   "metadata": {},
   "outputs": [],
   "source": [
    "def get_chars(labels,doc,char_count=27,classes=[\"e\", \"j\", \"s\"],vocab=char_list):\n",
    "    char_counts = np.zeros((char_count, len(classes)))\n",
    "    for i, doc in enumerate(docs):\n",
    "        label = labels[i]\n",
    "        for char in doc:\n",
    "            if char in vocab:\n",
    "                char_idx = vocab.index(char)\n",
    "                char_counts[char_idx,label] += 1\n",
    "    return char_counts\n",
    "\n",
    "char_counts = get_chars(labels,docs)"
   ]
  },
  {
   "cell_type": "code",
   "execution_count": 3,
   "id": "566ef399",
   "metadata": {},
   "outputs": [],
   "source": [
    "        \n",
    "        \n",
    "def count_doc_chars(doc,char_list = char_list):\n",
    "    doc_chars = np.ones((char_count,len(doc)))\n",
    "    for i in range(len(doc)):\n",
    "        for char in doc[i]:\n",
    "            if char in char_list:\n",
    "                char_idx = char_list.index(char)\n",
    "                doc_chars[char_idx,i] += 1\n",
    "    return doc_chars"
   ]
  },
  {
   "cell_type": "code",
   "execution_count": 4,
   "id": "df14263d",
   "metadata": {},
   "outputs": [],
   "source": [
    "def calc_priors(doc_numbers,alpha=0.5,classes=[\"e\", \"j\", \"s\"]):\n",
    "    prior = np.zeros(len(classes))\n",
    "    for i in range(0,len(classes)):\n",
    "        prior[i] = (doc_numbers[i]+alpha)/(sum(doc_numbers)+alpha*len(doc_numbers))\n",
    "    return prior\n",
    "\n",
    "prior = calc_priors(doc_numbers)"
   ]
  },
  {
   "cell_type": "code",
   "execution_count": 5,
   "id": "af7b7ac9",
   "metadata": {},
   "outputs": [],
   "source": [
    "def calc_cond_prob(char_counts,alpha=0.5,char_count=27,classes=[\"e\", \"j\", \"s\"]):\n",
    "    conditional_prob = np.zeros((char_count,len(classes)))\n",
    "    for i in range(0,char_count):\n",
    "        for j in range(0,len(classes)):\n",
    "            conditional_prob[i,j] = (char_counts[i,j]+alpha)/(sum(char_counts[:,j])+alpha*char_count)\n",
    "    return conditional_prob\n",
    "\n",
    "conditional_prob = calc_cond_prob(char_counts)"
   ]
  },
  {
   "cell_type": "code",
   "execution_count": 6,
   "id": "7f1751a0",
   "metadata": {},
   "outputs": [],
   "source": [
    "def predict(doc,prior,x_char_counts,conditional_prob,vocab=char_list,classes=[\"e\", \"j\", \"s\"]):\n",
    "    log_prob = np.log(prior)\n",
    "    for string in doc:\n",
    "        for char in string:\n",
    "            if char in char_list:\n",
    "                char_idx = char_list.index(char)\n",
    "                for j in range(len(classes)):\n",
    "                    log_prob[j] += x_char_counts[char_idx]*np.log(conditional_prob[char_idx][j])\n",
    "    print(log_prob)\n",
    "    return np.argmax(log_prob)"
   ]
  },
  {
   "cell_type": "code",
   "execution_count": 7,
   "id": "e83790c5",
   "metadata": {},
   "outputs": [
    {
     "data": {
      "text/plain": [
       "array([0.33333333, 0.33333333, 0.33333333])"
      ]
     },
     "execution_count": 7,
     "metadata": {},
     "output_type": "execute_result"
    }
   ],
   "source": [
    "prior"
   ]
  },
  {
   "cell_type": "markdown",
   "id": "f7e74b0a",
   "metadata": {},
   "source": [
    "### 2-2"
   ]
  },
  {
   "cell_type": "code",
   "execution_count": 8,
   "id": "840df326",
   "metadata": {},
   "outputs": [
    {
     "data": {
      "text/plain": [
       "array([0.06016851, 0.01113497, 0.02151   , 0.02197258, 0.10536924,\n",
       "       0.01893276, 0.01747894, 0.04721626, 0.05541054, 0.00142078,\n",
       "       0.00373369, 0.02897737, 0.02051875, 0.05792169, 0.0644639 ,\n",
       "       0.01675202, 0.0005617 , 0.05382455, 0.06618206, 0.08012556,\n",
       "       0.02666446, 0.00928465, 0.01549645, 0.00115645, 0.01384437,\n",
       "       0.00062779, 0.17924996])"
      ]
     },
     "execution_count": 8,
     "metadata": {},
     "output_type": "execute_result"
    }
   ],
   "source": [
    "conditional_prob[:,0]"
   ]
  },
  {
   "cell_type": "markdown",
   "id": "e6ae4ff2",
   "metadata": {},
   "source": [
    "### 2-3"
   ]
  },
  {
   "cell_type": "code",
   "execution_count": 9,
   "id": "09869362",
   "metadata": {},
   "outputs": [
    {
     "data": {
      "text/plain": [
       "array([1.31765610e-01, 1.08669066e-02, 5.48586603e-03, 1.72263182e-02,\n",
       "       6.02047591e-02, 3.87854223e-03, 1.40116706e-02, 3.17621161e-02,\n",
       "       9.70334393e-02, 2.34110207e-03, 5.74094133e-02, 1.43261470e-03,\n",
       "       3.97987351e-02, 5.67105769e-02, 9.11632132e-02, 8.73545547e-04,\n",
       "       1.04825466e-04, 4.28037318e-02, 4.21747790e-02, 5.69901115e-02,\n",
       "       7.06174220e-02, 2.44592753e-04, 1.97421294e-02, 3.49418219e-05,\n",
       "       1.41514379e-02, 7.72214263e-03, 1.23449457e-01])"
      ]
     },
     "execution_count": 9,
     "metadata": {},
     "output_type": "execute_result"
    }
   ],
   "source": [
    "conditional_prob[:,1]"
   ]
  },
  {
   "cell_type": "code",
   "execution_count": 10,
   "id": "b7ee92f1",
   "metadata": {},
   "outputs": [
    {
     "data": {
      "text/plain": [
       "array([1.04560451e-01, 8.23286362e-03, 3.75258241e-02, 3.97459221e-02,\n",
       "       1.13810860e-01, 8.60287996e-03, 7.18448398e-03, 4.53270019e-03,\n",
       "       4.98597021e-02, 6.62945947e-03, 2.77512257e-04, 5.29431717e-02,\n",
       "       2.58086399e-02, 5.41765595e-02, 7.24923684e-02, 2.42669051e-02,\n",
       "       7.67783910e-03, 5.92951189e-02, 6.57704049e-02, 3.56140730e-02,\n",
       "       3.37023219e-02, 5.88942678e-03, 9.25040856e-05, 2.49761031e-03,\n",
       "       7.86284728e-03, 2.68261848e-03, 1.68264932e-01])"
      ]
     },
     "execution_count": 10,
     "metadata": {},
     "output_type": "execute_result"
    }
   ],
   "source": [
    "conditional_prob[:,2]"
   ]
  },
  {
   "cell_type": "markdown",
   "id": "e0889201",
   "metadata": {},
   "source": [
    "### 2-4"
   ]
  },
  {
   "cell_type": "code",
   "execution_count": 11,
   "id": "3f0497b8",
   "metadata": {},
   "outputs": [
    {
     "data": {
      "text/plain": [
       "array([[165.],\n",
       "       [ 33.],\n",
       "       [ 54.],\n",
       "       [ 58.],\n",
       "       [312.],\n",
       "       [ 56.],\n",
       "       [ 52.],\n",
       "       [141.],\n",
       "       [141.],\n",
       "       [  4.],\n",
       "       [  7.],\n",
       "       [ 86.],\n",
       "       [ 65.],\n",
       "       [140.],\n",
       "       [183.],\n",
       "       [ 54.],\n",
       "       [  4.],\n",
       "       [142.],\n",
       "       [187.],\n",
       "       [226.],\n",
       "       [ 66.],\n",
       "       [ 32.],\n",
       "       [ 48.],\n",
       "       [  5.],\n",
       "       [ 39.],\n",
       "       [  3.],\n",
       "       [499.]])"
      ]
     },
     "execution_count": 11,
     "metadata": {},
     "output_type": "execute_result"
    }
   ],
   "source": [
    "x_doc = []\n",
    "x_label = []\n",
    "with open(\"languageID/e10.txt\") as f:\n",
    "    x_doc.append(f.read())\n",
    "    x_label.append(0)\n",
    "\n",
    "x_char_counts = count_doc_chars(x_doc)\n",
    "x_char_counts"
   ]
  },
  {
   "cell_type": "code",
   "execution_count": 12,
   "id": "db31d808",
   "metadata": {},
   "outputs": [
    {
     "data": {
      "text/plain": [
       "array([-7950.54651866])"
      ]
     },
     "execution_count": 12,
     "metadata": {},
     "output_type": "execute_result"
    }
   ],
   "source": [
    "### English ###\n",
    "log_p_e = 0\n",
    "for i in range(0,char_count):\n",
    "    log_p_e += x_char_counts[i]*np.log(conditional_prob[i,0])\n",
    "log_p_e"
   ]
  },
  {
   "cell_type": "code",
   "execution_count": 13,
   "id": "740a1d4b",
   "metadata": {},
   "outputs": [
    {
     "data": {
      "text/plain": [
       "array([-8891.36768957])"
      ]
     },
     "execution_count": 13,
     "metadata": {},
     "output_type": "execute_result"
    }
   ],
   "source": [
    "### Janpanese\n",
    "log_p_j = 0\n",
    "for i in range(0,char_count):\n",
    "    log_p_j += x_char_counts[i]*np.log(conditional_prob[i,1])\n",
    "log_p_j"
   ]
  },
  {
   "cell_type": "code",
   "execution_count": 14,
   "id": "09589a86",
   "metadata": {},
   "outputs": [
    {
     "data": {
      "text/plain": [
       "array([2914.99064725])"
      ]
     },
     "execution_count": 14,
     "metadata": {},
     "output_type": "execute_result"
    }
   ],
   "source": [
    "### Spanish\n",
    "log_p_s = 0\n",
    "for i in range(0,char_count):\n",
    "    log_p_s += x_char_counts[i]-np.log(conditional_prob[i,2])\n",
    "log_p_s"
   ]
  },
  {
   "cell_type": "markdown",
   "id": "497c00d0",
   "metadata": {},
   "source": [
    "### 2-6"
   ]
  },
  {
   "cell_type": "code",
   "execution_count": 15,
   "id": "47a09898",
   "metadata": {},
   "outputs": [
    {
     "name": "stdout",
     "output_type": "stream",
     "text": [
      "[-1408584.43665842 -1594276.14538999 -1494120.32058031]\n"
     ]
    },
    {
     "data": {
      "text/plain": [
       "0"
      ]
     },
     "execution_count": 15,
     "metadata": {},
     "output_type": "execute_result"
    }
   ],
   "source": [
    "predict(x_doc,prior,x_char_counts,conditional_prob)"
   ]
  },
  {
   "cell_type": "markdown",
   "id": "4cf5a7dc",
   "metadata": {},
   "source": [
    "### 2-7"
   ]
  },
  {
   "cell_type": "code",
   "execution_count": 16,
   "id": "64dcacd3",
   "metadata": {},
   "outputs": [],
   "source": [
    "from sklearn.metrics import confusion_matrix\n",
    "\n",
    "docs = []\n",
    "labels = []\n",
    "for i, c in enumerate(classes):\n",
    "    for j in range(10,20):\n",
    "        with open(os.path.join(data_dir, f\"{c}{j}\")+\".txt\") as f:\n",
    "            docs.append(f.read())\n",
    "            labels.append(i)"
   ]
  },
  {
   "cell_type": "code",
   "execution_count": 17,
   "id": "bce7f59f",
   "metadata": {},
   "outputs": [],
   "source": [
    "x_char_counts = count_doc_chars(docs)"
   ]
  },
  {
   "cell_type": "code",
   "execution_count": 18,
   "id": "b5db4450",
   "metadata": {},
   "outputs": [
    {
     "name": "stdout",
     "output_type": "stream",
     "text": [
      "[-24225941.71205364 -26515252.96421054 -24970452.09705942]\n",
      "[-29184408.44117882 -31884096.56739806 -30001339.77708399]\n",
      "[-16880503.9431489  -18346187.56552958 -17433280.18013849]\n",
      "[-14885331.45216399 -16128841.13596447 -15471477.32456662]\n",
      "[-14855777.48244123 -16184920.28801606 -15302642.00712824]\n",
      "[-14119227.23127456 -15195798.60444268 -14538046.50390496]\n",
      "[-23767561.54007601 -26089708.3874888  -24489713.116374  ]\n",
      "[-21240031.12927104 -23024409.74664845 -21803825.3987597 ]\n",
      "[-14633854.87035586 -15804981.30670367 -14876573.23612962]\n",
      "[-5210519.84791597 -5587881.62201746 -5326189.65037526]\n",
      "[-13623247.69777305 -13083758.41326301 -13857116.82194189]\n",
      "[-13705957.94107019 -13010492.30239573 -13886116.60839933]\n",
      "[-11169441.29060478 -10676412.76508264 -11313354.68150552]\n",
      "[-14458076.36176011 -13738990.72207708 -14614419.41307489]\n",
      "[-14424278.16723989 -13629323.65163127 -14505479.02855303]\n",
      "[-11783932.82514378 -11374877.8408341  -11931877.56406177]\n",
      "[-13304186.1829375  -12647679.70634169 -13418467.59181773]\n",
      "[-14509477.52793065 -13872443.85080507 -14700911.82058649]\n",
      "[-12704497.08902542 -12051308.20797119 -12814988.68445224]\n",
      "[-12879028.19884197 -12295154.41550254 -12928129.52318151]\n",
      "[-15496366.31552285 -16614042.70525792 -15012652.79219541]\n",
      "[-5632094.72598976 -6067360.5520637  -5429454.51296998]\n",
      "[-18237080.44626045 -19423578.09700042 -17769171.5670773 ]\n",
      "[-8971357.09753906 -9561697.78713646 -8664202.22604992]\n",
      "[-15996934.89933685 -17114409.06306889 -15560508.86099213]\n",
      "[-13916306.82089768 -14990443.94090095 -13531718.3315307 ]\n",
      "[-15060151.46975848 -16041752.07396728 -14588711.15839916]\n",
      "[-16367071.84276943 -17513751.92460833 -15885161.00876389]\n",
      "[-17408032.88789214 -18595150.01357368 -16871479.87305026]\n",
      "[-10525828.12888053 -11200196.24079301 -10175920.81429085]\n"
     ]
    },
    {
     "data": {
      "text/plain": [
       "array([0., 0., 0., 0., 0., 0., 0., 0., 0., 0., 1., 1., 1., 1., 1., 1., 1.,\n",
       "       1., 1., 1., 2., 2., 2., 2., 2., 2., 2., 2., 2., 2.])"
      ]
     },
     "execution_count": 18,
     "metadata": {},
     "output_type": "execute_result"
    }
   ],
   "source": [
    "labels_pred = np.zeros(x_char_counts.shape[1])\n",
    "for i in range(0,x_char_counts.shape[1]):\n",
    "    labels_pred[i] = predict(docs,prior,x_char_counts[:,i],conditional_prob)\n",
    "labels_pred"
   ]
  },
  {
   "cell_type": "code",
   "execution_count": 19,
   "id": "a5905874",
   "metadata": {},
   "outputs": [
    {
     "name": "stdout",
     "output_type": "stream",
     "text": [
      "[[10  0  0]\n",
      " [ 0 10  0]\n",
      " [ 0  0 10]]\n"
     ]
    }
   ],
   "source": [
    "cm = confusion_matrix(labels, labels_pred)\n",
    "print(cm)"
   ]
  }
 ],
 "metadata": {
  "kernelspec": {
   "display_name": "Python 3",
   "language": "python",
   "name": "python3"
  },
  "language_info": {
   "codemirror_mode": {
    "name": "ipython",
    "version": 3
   },
   "file_extension": ".py",
   "mimetype": "text/x-python",
   "name": "python",
   "nbconvert_exporter": "python",
   "pygments_lexer": "ipython3",
   "version": "3.8.8"
  }
 },
 "nbformat": 4,
 "nbformat_minor": 5
}
